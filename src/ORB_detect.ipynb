{
 "cells": [
  {
   "cell_type": "code",
   "execution_count": 10,
   "metadata": {},
   "outputs": [],
   "source": [
    "import cv2\n",
    "import numpy as np\n",
    "from matplotlib import pyplot as plt\n",
    "\n",
    "img  = cv2.imread(\"test.png\",0)\n",
    "\n",
    "#Init STAR detector\n",
    "orb = cv2.ORB_create()\n",
    "\n",
    "# Find keypoint\n",
    "key_pt = orb.detect(img_in, None)\n",
    "\n",
    "# Compute the descriptor with ORB\n",
    "key_pt, des = orb.compute(img_in, key_pt)\n"
   ]
  }
 ],
 "metadata": {
  "kernelspec": {
   "display_name": "Python 3",
   "language": "python",
   "name": "python3"
  },
  "language_info": {
   "codemirror_mode": {
    "name": "ipython",
    "version": 3
   },
   "file_extension": ".py",
   "mimetype": "text/x-python",
   "name": "python",
   "nbconvert_exporter": "python",
   "pygments_lexer": "ipython3",
   "version": "3.6.7"
  }
 },
 "nbformat": 4,
 "nbformat_minor": 2
}
